{
 "cells": [
  {
   "cell_type": "code",
   "execution_count": 5,
   "metadata": {},
   "outputs": [
    {
     "name": "stdout",
     "output_type": "stream",
     "text": [
      "[[3 5]\n",
      " [7 4]\n",
      " [6 8]]\n"
     ]
    }
   ],
   "source": [
    "import tensorflow as tf\n",
    "x = tf.constant ([[3,5,7],\n",
    "                 [4,6,8]])\n",
    "y = tf.reshape(x,[3,2])\n",
    "with tf.Session() as sess:\n",
    "    print (y.eval())"
   ]
  },
  {
   "cell_type": "code",
   "execution_count": 6,
   "metadata": {},
   "outputs": [
    {
     "name": "stdout",
     "output_type": "stream",
     "text": [
      "[7 4]\n"
     ]
    }
   ],
   "source": [
    "y = tf.reshape(x,[3,2])[1,:]\n",
    "with tf.Session() as sess:\n",
    "    print (y.eval())"
   ]
  },
  {
   "cell_type": "markdown",
   "metadata": {},
   "source": [
    "### Variables"
   ]
  },
  {
   "cell_type": "code",
   "execution_count": 15,
   "metadata": {},
   "outputs": [
    {
     "name": "stdout",
     "output_type": "stream",
     "text": [
      "0:[[3.6920192 5.75547   8.036126 ]]\n",
      "1:[[4.4420195 6.88547   9.586126 ]]\n",
      "2:[[ 5.1920195  8.0154705 11.1361265]]\n",
      "3:[[ 5.9420195  9.14547   12.686127 ]]\n",
      "4:[[ 6.6920195 10.27547   14.236126 ]]\n"
     ]
    }
   ],
   "source": [
    "#Build Computational Graph\n",
    "def forward_pass(w,x):\n",
    "    return tf.matmul(w,x)\n",
    "\n",
    "def train_loop(x, niter=5):\n",
    "    with tf.variable_scope(\"model\",reuse = tf.AUTO_REUSE):\n",
    "        w = tf.get_variable(\"weights\",\n",
    "                           shape = (1,2), #1 x 2 matrix\n",
    "                           initializer = tf.truncated_normal_initializer(), #initializes to random numbers with gaussian normal distribution with 0 mean. Truncates the distribution to avoid extreme outliers\n",
    "                           trainable = True) #trainable => you can train this during evaluation\n",
    "    preds = []\n",
    "    for k in range (niter):\n",
    "        preds.append(forward_pass(w,x))\n",
    "        w = w+0.1 #\"gradient update\"\n",
    "    return preds\n",
    "\n",
    "#Run Session\n",
    "with tf.Session() as sess:\n",
    "    preds = train_loop(tf.con stant([[3.2,5.1,7.2],[4.3,6.2,8.3]])) #2 x 3 matrix\n",
    "    tf.global_variables_initializer().run() #initialize all variables\n",
    "    for i in range(len(preds)):\n",
    "        print(\"{}:{}\".format(i,preds[i].eval()))\n",
    "        "
   ]
  },
  {
   "cell_type": "code",
   "execution_count": 18,
   "metadata": {},
   "outputs": [
    {
     "name": "stdout",
     "output_type": "stream",
     "text": [
      "Tensor(\"Placeholder:0\", dtype=float32)\n",
      "[ 4.  8. 12.]\n"
     ]
    }
   ],
   "source": [
    "#Placeholder Examples: Placeholders allow you to feed in values, such as by reading from a text file\n",
    "import tensorflow as tf\n",
    "\n",
    "a = tf.placeholder(\"float\", None)\n",
    "b = a*4\n",
    "print (a)\n",
    "with tf.Session() as sess:\n",
    "    print(sess.run(b, feed_dict={a:[1,2,3]}))"
   ]
  },
  {
   "cell_type": "code",
   "execution_count": null,
   "metadata": {},
   "outputs": [],
   "source": []
  }
 ],
 "metadata": {
  "kernelspec": {
   "display_name": "Python 3",
   "language": "python",
   "name": "python3"
  },
  "language_info": {
   "codemirror_mode": {
    "name": "ipython",
    "version": 3
   },
   "file_extension": ".py",
   "mimetype": "text/x-python",
   "name": "python",
   "nbconvert_exporter": "python",
   "pygments_lexer": "ipython3",
   "version": "3.6.5"
  }
 },
 "nbformat": 4,
 "nbformat_minor": 2
}
