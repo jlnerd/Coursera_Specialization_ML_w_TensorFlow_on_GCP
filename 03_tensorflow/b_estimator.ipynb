{
 "cells": [
  {
   "cell_type": "markdown",
   "metadata": {},
   "source": [
    "<h1>2b. Machine Learning using tf.estimator </h1>\n",
    "\n",
    "In this notebook, we will create a machine learning model using tf.estimator and evaluate its performance.  The dataset is rather small (7700 samples), so we can do it all in-memory.  We will also simply pass the raw data in as-is. "
   ]
  },
  {
   "cell_type": "code",
   "execution_count": 14,
   "metadata": {},
   "outputs": [
    {
     "name": "stdout",
     "output_type": "stream",
     "text": [
      "1.11.0\n"
     ]
    }
   ],
   "source": [
    "import datalab.bigquery as bq\n",
    "import tensorflow as tf\n",
    "import pandas as pd\n",
    "import numpy as np\n",
    "import shutil\n",
    "\n",
    "print(tf.__version__)"
   ]
  },
  {
   "cell_type": "markdown",
   "metadata": {},
   "source": [
    "Read data created in the previous chapter."
   ]
  },
  {
   "cell_type": "code",
   "execution_count": 15,
   "metadata": {},
   "outputs": [],
   "source": [
    "# In CSV, label is the first column, after the features, followed by the key\n",
    "CSV_COLUMNS = ['fare_amount', 'pickuplon','pickuplat','dropofflon','dropofflat','passengers', 'key']\n",
    "FEATURES = CSV_COLUMNS[1:len(CSV_COLUMNS) - 1]\n",
    "LABEL = CSV_COLUMNS[0]\n",
    "\n",
    "df_train = pd.read_csv('./taxi-train.csv', header = None, names = CSV_COLUMNS)\n",
    "df_valid = pd.read_csv('./taxi-valid.csv', header = None, names = CSV_COLUMNS)"
   ]
  },
  {
   "cell_type": "code",
   "execution_count": 17,
   "metadata": {},
   "outputs": [
    {
     "name": "stdout",
     "output_type": "stream",
     "text": [
      "['pickuplon', 'pickuplat', 'dropofflon', 'dropofflat', 'passengers']\n",
      "fare_amount\n"
     ]
    }
   ],
   "source": [
    "print(FEATURES)\n",
    "print(LABEL)"
   ]
  },
  {
   "cell_type": "markdown",
   "metadata": {},
   "source": [
    "<h2> Input functions to read from Pandas Dataframe </h2>"
   ]
  },
  {
   "cell_type": "code",
   "execution_count": 18,
   "metadata": {},
   "outputs": [],
   "source": [
    "def make_input_fn(df, num_epochs):\n",
    "  return tf.estimator.inputs.pandas_input_fn(\n",
    "    x = df,\n",
    "    y = df[LABEL],\n",
    "    batch_size = 128,\n",
    "    num_epochs = num_epochs,\n",
    "    shuffle = True,\n",
    "    queue_capacity = 1000,\n",
    "    num_threads = 1\n",
    "  )"
   ]
  },
  {
   "cell_type": "markdown",
   "metadata": {},
   "source": [
    "Our input function for predictions is the same except we don't provide a label"
   ]
  },
  {
   "cell_type": "code",
   "execution_count": 6,
   "metadata": {},
   "outputs": [],
   "source": [
    "def make_prediction_input_fn(df, num_epochs):\n",
    "  return tf.estimator.inputs.pandas_input_fn(\n",
    "    x = df,\n",
    "    y = None,\n",
    "    batch_size = 128,\n",
    "    num_epochs = num_epochs,\n",
    "    shuffle = True,\n",
    "    queue_capacity = 1000,\n",
    "    num_threads = 1\n",
    "  )"
   ]
  },
  {
   "cell_type": "markdown",
   "metadata": {},
   "source": [
    "### Create feature columns for estimator"
   ]
  },
  {
   "cell_type": "code",
   "execution_count": 9,
   "metadata": {},
   "outputs": [],
   "source": [
    "def make_feature_cols():\n",
    "  input_columns = [tf.feature_column.numeric_column(k) for k in FEATURES]\n",
    "  return input_columns"
   ]
  },
  {
   "cell_type": "markdown",
   "metadata": {},
   "source": [
    "<h3> Linear Regression with tf.Estimator framework </h3>"
   ]
  },
  {
   "cell_type": "code",
   "execution_count": 10,
   "metadata": {},
   "outputs": [
    {
     "name": "stdout",
     "output_type": "stream",
     "text": [
      "INFO:tensorflow:Using default config.\n",
      "INFO:tensorflow:Using config: {'_model_dir': 'taxi_trained', '_tf_random_seed': None, '_save_summary_steps': 100, '_save_checkpoints_steps': None, '_save_checkpoints_secs': 600, '_session_config': allow_soft_placement: true\n",
      "graph_options {\n",
      "  rewrite_options {\n",
      "    meta_optimizer_iterations: ONE\n",
      "  }\n",
      "}\n",
      ", '_keep_checkpoint_max': 5, '_keep_checkpoint_every_n_hours': 10000, '_log_step_count_steps': 100, '_train_distribute': None, '_device_fn': None, '_protocol': None, '_eval_distribute': None, '_experimental_distribute': None, '_service': None, '_cluster_spec': <tensorflow.python.training.server_lib.ClusterSpec object at 0x10e45a390>, '_task_type': 'worker', '_task_id': 0, '_global_id_in_cluster': 0, '_master': '', '_evaluation_master': '', '_is_chief': True, '_num_ps_replicas': 0, '_num_worker_replicas': 1}\n",
      "WARNING:tensorflow:From /Users/johnleonard/anaconda3/lib/python3.6/site-packages/tensorflow/python/estimator/inputs/queues/feeding_queue_runner.py:62: QueueRunner.__init__ (from tensorflow.python.training.queue_runner_impl) is deprecated and will be removed in a future version.\n",
      "Instructions for updating:\n",
      "To construct input pipelines, use the `tf.data` module.\n",
      "WARNING:tensorflow:From /Users/johnleonard/anaconda3/lib/python3.6/site-packages/tensorflow/python/estimator/inputs/queues/feeding_functions.py:500: add_queue_runner (from tensorflow.python.training.queue_runner_impl) is deprecated and will be removed in a future version.\n",
      "Instructions for updating:\n",
      "To construct input pipelines, use the `tf.data` module.\n",
      "INFO:tensorflow:Calling model_fn.\n",
      "INFO:tensorflow:Done calling model_fn.\n",
      "INFO:tensorflow:Create CheckpointSaverHook.\n",
      "INFO:tensorflow:Graph was finalized.\n",
      "INFO:tensorflow:Running local_init_op.\n",
      "INFO:tensorflow:Done running local_init_op.\n",
      "WARNING:tensorflow:From /Users/johnleonard/anaconda3/lib/python3.6/site-packages/tensorflow/python/training/monitored_session.py:804: start_queue_runners (from tensorflow.python.training.queue_runner_impl) is deprecated and will be removed in a future version.\n",
      "Instructions for updating:\n",
      "To construct input pipelines, use the `tf.data` module.\n",
      "INFO:tensorflow:Saving checkpoints for 0 into taxi_trained/model.ckpt.\n",
      "INFO:tensorflow:loss = 21389.191, step = 1\n",
      "INFO:tensorflow:global_step/sec: 362.787\n",
      "INFO:tensorflow:loss = 13115.473, step = 101 (0.278 sec)\n",
      "INFO:tensorflow:global_step/sec: 481.503\n",
      "INFO:tensorflow:loss = 10978.714, step = 201 (0.208 sec)\n",
      "INFO:tensorflow:global_step/sec: 502.066\n",
      "INFO:tensorflow:loss = 13656.132, step = 301 (0.200 sec)\n",
      "INFO:tensorflow:global_step/sec: 512.436\n",
      "INFO:tensorflow:loss = 14474.289, step = 401 (0.196 sec)\n",
      "INFO:tensorflow:global_step/sec: 451.892\n",
      "INFO:tensorflow:loss = 5871.609, step = 501 (0.220 sec)\n",
      "INFO:tensorflow:global_step/sec: 445.635\n",
      "INFO:tensorflow:loss = 7740.1655, step = 601 (0.224 sec)\n",
      "INFO:tensorflow:Saving checkpoints for 608 into taxi_trained/model.ckpt.\n",
      "INFO:tensorflow:Loss for final step: 57.529198.\n"
     ]
    },
    {
     "data": {
      "text/plain": [
       "<tensorflow.python.estimator.canned.linear.LinearRegressor at 0x10e45a160>"
      ]
     },
     "execution_count": 10,
     "metadata": {},
     "output_type": "execute_result"
    }
   ],
   "source": [
    "tf.logging.set_verbosity(tf.logging.INFO)\n",
    "\n",
    "OUTDIR = 'taxi_trained'\n",
    "shutil.rmtree(OUTDIR, ignore_errors = True) # start fresh each time\n",
    "\n",
    "model = tf.estimator.LinearRegressor(\n",
    "      feature_columns = make_feature_cols(), model_dir = OUTDIR)\n",
    "\n",
    "model.train(input_fn = make_input_fn(df_train, num_epochs = 10))"
   ]
  },
  {
   "cell_type": "markdown",
   "metadata": {},
   "source": [
    "Evaluate on the validation data (we should defer using the test data to after we have selected a final model)."
   ]
  },
  {
   "cell_type": "code",
   "execution_count": 11,
   "metadata": {},
   "outputs": [
    {
     "name": "stdout",
     "output_type": "stream",
     "text": [
      "INFO:tensorflow:Calling model_fn.\n",
      "INFO:tensorflow:Done calling model_fn.\n",
      "INFO:tensorflow:Starting evaluation at 2018-10-12-22:07:56\n",
      "INFO:tensorflow:Graph was finalized.\n",
      "INFO:tensorflow:Restoring parameters from taxi_trained/model.ckpt-608\n",
      "INFO:tensorflow:Running local_init_op.\n",
      "INFO:tensorflow:Done running local_init_op.\n",
      "INFO:tensorflow:Finished evaluation at 2018-10-12-22:07:56\n",
      "INFO:tensorflow:Saving dict for global step 608: average_loss = 110.46663, global_step = 608, label/mean = 11.666428, loss = 13137.639, prediction/mean = 10.382989\n",
      "INFO:tensorflow:Saving 'checkpoint_path' summary for global step 608: taxi_trained/model.ckpt-608\n",
      "RMSE on validation dataset = 10.510310173034668\n"
     ]
    }
   ],
   "source": [
    "def print_rmse(model, name, df):\n",
    "  metrics = model.evaluate(input_fn = make_input_fn(df, 1))\n",
    "  print('RMSE on {} dataset = {}'.format(name, np.sqrt(metrics['average_loss'])))\n",
    "print_rmse(model, 'validation', df_valid)"
   ]
  },
  {
   "cell_type": "markdown",
   "metadata": {},
   "source": [
    "This is nowhere near our benchmark (RMSE of $6 or so on this data), but it serves to demonstrate what TensorFlow code looks like.  Let's use this model for prediction."
   ]
  },
  {
   "cell_type": "code",
   "execution_count": 12,
   "metadata": {},
   "outputs": [
    {
     "name": "stdout",
     "output_type": "stream",
     "text": [
      "INFO:tensorflow:Calling model_fn.\n",
      "INFO:tensorflow:Done calling model_fn.\n",
      "INFO:tensorflow:Graph was finalized.\n",
      "INFO:tensorflow:Restoring parameters from taxi_trained/model.ckpt-608\n",
      "INFO:tensorflow:Running local_init_op.\n",
      "INFO:tensorflow:Done running local_init_op.\n",
      "{'predictions': array([10.347684], dtype=float32)}\n",
      "{'predictions': array([10.550064], dtype=float32)}\n",
      "{'predictions': array([10.549093], dtype=float32)}\n",
      "{'predictions': array([10.344832], dtype=float32)}\n",
      "{'predictions': array([10.399105], dtype=float32)}\n"
     ]
    }
   ],
   "source": [
    "predictions = model.predict(input_fn = make_prediction_input_fn(df_valid, 1))\n",
    "for i in range(5):\n",
    "  print(next(predictions))"
   ]
  },
  {
   "cell_type": "markdown",
   "metadata": {},
   "source": [
    "This explains why the RMSE was so high -- the model essentially predicts the same amount for every trip.  Would a more complex model help? Let's try using a deep neural network.  The code to do this is quite straightforward as well."
   ]
  },
  {
   "cell_type": "markdown",
   "metadata": {},
   "source": [
    "<h3> Deep Neural Network regression </h3>"
   ]
  },
  {
   "cell_type": "code",
   "execution_count": 13,
   "metadata": {},
   "outputs": [
    {
     "name": "stdout",
     "output_type": "stream",
     "text": [
      "INFO:tensorflow:Using default config.\n",
      "INFO:tensorflow:Using config: {'_model_dir': 'taxi_trained', '_tf_random_seed': None, '_save_summary_steps': 100, '_save_checkpoints_steps': None, '_save_checkpoints_secs': 600, '_session_config': allow_soft_placement: true\n",
      "graph_options {\n",
      "  rewrite_options {\n",
      "    meta_optimizer_iterations: ONE\n",
      "  }\n",
      "}\n",
      ", '_keep_checkpoint_max': 5, '_keep_checkpoint_every_n_hours': 10000, '_log_step_count_steps': 100, '_train_distribute': None, '_device_fn': None, '_protocol': None, '_eval_distribute': None, '_experimental_distribute': None, '_service': None, '_cluster_spec': <tensorflow.python.training.server_lib.ClusterSpec object at 0x10fa40b38>, '_task_type': 'worker', '_task_id': 0, '_global_id_in_cluster': 0, '_master': '', '_evaluation_master': '', '_is_chief': True, '_num_ps_replicas': 0, '_num_worker_replicas': 1}\n",
      "INFO:tensorflow:Calling model_fn.\n",
      "INFO:tensorflow:Done calling model_fn.\n",
      "INFO:tensorflow:Create CheckpointSaverHook.\n",
      "INFO:tensorflow:Graph was finalized.\n",
      "INFO:tensorflow:Running local_init_op.\n",
      "INFO:tensorflow:Done running local_init_op.\n",
      "INFO:tensorflow:Saving checkpoints for 0 into taxi_trained/model.ckpt.\n",
      "INFO:tensorflow:loss = 28579.027, step = 1\n",
      "INFO:tensorflow:global_step/sec: 392.404\n",
      "INFO:tensorflow:loss = 7763.3726, step = 101 (0.257 sec)\n",
      "INFO:tensorflow:global_step/sec: 444.423\n",
      "INFO:tensorflow:loss = 11069.998, step = 201 (0.225 sec)\n",
      "INFO:tensorflow:global_step/sec: 524.813\n",
      "INFO:tensorflow:loss = 13484.5, step = 301 (0.192 sec)\n",
      "INFO:tensorflow:global_step/sec: 530.91\n",
      "INFO:tensorflow:loss = 12024.262, step = 401 (0.187 sec)\n",
      "INFO:tensorflow:global_step/sec: 530.91\n",
      "INFO:tensorflow:loss = 10131.934, step = 501 (0.191 sec)\n",
      "INFO:tensorflow:global_step/sec: 509.292\n",
      "INFO:tensorflow:loss = 10942.061, step = 601 (0.193 sec)\n",
      "INFO:tensorflow:global_step/sec: 518.912\n",
      "INFO:tensorflow:loss = 10167.211, step = 701 (0.193 sec)\n",
      "INFO:tensorflow:global_step/sec: 516.9\n",
      "INFO:tensorflow:loss = 10743.943, step = 801 (0.193 sec)\n",
      "INFO:tensorflow:global_step/sec: 526.524\n",
      "INFO:tensorflow:loss = 6849.922, step = 901 (0.190 sec)\n",
      "INFO:tensorflow:global_step/sec: 524.772\n",
      "INFO:tensorflow:loss = 13056.4375, step = 1001 (0.189 sec)\n",
      "INFO:tensorflow:global_step/sec: 508.851\n",
      "INFO:tensorflow:loss = 6668.927, step = 1101 (0.197 sec)\n",
      "INFO:tensorflow:global_step/sec: 510.986\n",
      "INFO:tensorflow:loss = 15618.559, step = 1201 (0.196 sec)\n",
      "INFO:tensorflow:global_step/sec: 514.997\n",
      "INFO:tensorflow:loss = 8139.61, step = 1301 (0.193 sec)\n",
      "INFO:tensorflow:global_step/sec: 526.287\n",
      "INFO:tensorflow:loss = 17541.316, step = 1401 (0.190 sec)\n",
      "INFO:tensorflow:global_step/sec: 530.392\n",
      "INFO:tensorflow:loss = 6996.923, step = 1501 (0.189 sec)\n",
      "INFO:tensorflow:global_step/sec: 507.511\n",
      "INFO:tensorflow:loss = 16032.263, step = 1601 (0.199 sec)\n",
      "INFO:tensorflow:global_step/sec: 548.517\n",
      "INFO:tensorflow:loss = 13614.737, step = 1701 (0.180 sec)\n",
      "INFO:tensorflow:global_step/sec: 521.131\n",
      "INFO:tensorflow:loss = 15522.409, step = 1801 (0.192 sec)\n",
      "INFO:tensorflow:global_step/sec: 382.775\n",
      "INFO:tensorflow:loss = 10002.017, step = 1901 (0.261 sec)\n",
      "INFO:tensorflow:global_step/sec: 435.53\n",
      "INFO:tensorflow:loss = 13126.602, step = 2001 (0.229 sec)\n",
      "INFO:tensorflow:global_step/sec: 419.992\n",
      "INFO:tensorflow:loss = 10067.732, step = 2101 (0.239 sec)\n",
      "INFO:tensorflow:global_step/sec: 509.106\n",
      "INFO:tensorflow:loss = 8403.91, step = 2201 (0.197 sec)\n",
      "INFO:tensorflow:global_step/sec: 487.258\n",
      "INFO:tensorflow:loss = 14803.342, step = 2301 (0.205 sec)\n",
      "INFO:tensorflow:global_step/sec: 522.561\n",
      "INFO:tensorflow:loss = 7809.414, step = 2401 (0.192 sec)\n",
      "INFO:tensorflow:global_step/sec: 516.039\n",
      "INFO:tensorflow:loss = 9709.473, step = 2501 (0.192 sec)\n",
      "INFO:tensorflow:global_step/sec: 522.37\n",
      "INFO:tensorflow:loss = 15918.824, step = 2601 (0.191 sec)\n",
      "INFO:tensorflow:global_step/sec: 564.528\n",
      "INFO:tensorflow:loss = 11734.473, step = 2701 (0.177 sec)\n",
      "INFO:tensorflow:global_step/sec: 558.282\n",
      "INFO:tensorflow:loss = 14117.578, step = 2801 (0.179 sec)\n",
      "INFO:tensorflow:global_step/sec: 559.531\n",
      "INFO:tensorflow:loss = 13450.598, step = 2901 (0.179 sec)\n",
      "INFO:tensorflow:global_step/sec: 558.737\n",
      "INFO:tensorflow:loss = 10886.452, step = 3001 (0.179 sec)\n",
      "INFO:tensorflow:global_step/sec: 518.473\n",
      "INFO:tensorflow:loss = 10392.299, step = 3101 (0.193 sec)\n",
      "INFO:tensorflow:global_step/sec: 548.902\n",
      "INFO:tensorflow:loss = 21166.914, step = 3201 (0.182 sec)\n",
      "INFO:tensorflow:global_step/sec: 537.926\n",
      "INFO:tensorflow:loss = 8605.051, step = 3301 (0.186 sec)\n",
      "INFO:tensorflow:global_step/sec: 496.315\n",
      "INFO:tensorflow:loss = 10368.478, step = 3401 (0.202 sec)\n",
      "INFO:tensorflow:global_step/sec: 546.009\n",
      "INFO:tensorflow:loss = 7874.945, step = 3501 (0.183 sec)\n",
      "INFO:tensorflow:global_step/sec: 544.217\n",
      "INFO:tensorflow:loss = 8871.468, step = 3601 (0.185 sec)\n",
      "INFO:tensorflow:global_step/sec: 539.099\n",
      "INFO:tensorflow:loss = 13584.076, step = 3701 (0.185 sec)\n",
      "INFO:tensorflow:global_step/sec: 558.21\n",
      "INFO:tensorflow:loss = 15130.982, step = 3801 (0.179 sec)\n",
      "INFO:tensorflow:global_step/sec: 536.049\n",
      "INFO:tensorflow:loss = 12818.999, step = 3901 (0.187 sec)\n",
      "INFO:tensorflow:global_step/sec: 566.518\n",
      "INFO:tensorflow:loss = 14228.271, step = 4001 (0.177 sec)\n",
      "INFO:tensorflow:global_step/sec: 572.049\n",
      "INFO:tensorflow:loss = 8432.422, step = 4101 (0.175 sec)\n",
      "INFO:tensorflow:global_step/sec: 573.977\n",
      "INFO:tensorflow:loss = 14137.088, step = 4201 (0.174 sec)\n",
      "INFO:tensorflow:global_step/sec: 558.75\n",
      "INFO:tensorflow:loss = 9678.762, step = 4301 (0.179 sec)\n",
      "INFO:tensorflow:global_step/sec: 524.502\n",
      "INFO:tensorflow:loss = 5442.297, step = 4401 (0.190 sec)\n",
      "INFO:tensorflow:global_step/sec: 478.73\n",
      "INFO:tensorflow:loss = 13893.111, step = 4501 (0.210 sec)\n",
      "INFO:tensorflow:global_step/sec: 458.201\n",
      "INFO:tensorflow:loss = 12532.912, step = 4601 (0.218 sec)\n",
      "INFO:tensorflow:global_step/sec: 535.667\n",
      "INFO:tensorflow:loss = 10505.937, step = 4701 (0.186 sec)\n",
      "INFO:tensorflow:global_step/sec: 565.397\n",
      "INFO:tensorflow:loss = 6030.0674, step = 4801 (0.177 sec)\n",
      "INFO:tensorflow:global_step/sec: 581.93\n",
      "INFO:tensorflow:loss = 10390.209, step = 4901 (0.172 sec)\n",
      "INFO:tensorflow:global_step/sec: 559.503\n",
      "INFO:tensorflow:loss = 15417.211, step = 5001 (0.179 sec)\n",
      "INFO:tensorflow:global_step/sec: 564.547\n",
      "INFO:tensorflow:loss = 5946.2227, step = 5101 (0.177 sec)\n",
      "INFO:tensorflow:global_step/sec: 527.315\n",
      "INFO:tensorflow:loss = 10696.508, step = 5201 (0.189 sec)\n",
      "INFO:tensorflow:global_step/sec: 481.865\n",
      "INFO:tensorflow:loss = 6391.812, step = 5301 (0.208 sec)\n",
      "INFO:tensorflow:global_step/sec: 499.099\n",
      "INFO:tensorflow:loss = 10051.097, step = 5401 (0.200 sec)\n",
      "INFO:tensorflow:global_step/sec: 505.365\n",
      "INFO:tensorflow:loss = 13387.799, step = 5501 (0.198 sec)\n",
      "INFO:tensorflow:global_step/sec: 499.082\n",
      "INFO:tensorflow:loss = 10387.597, step = 5601 (0.200 sec)\n",
      "INFO:tensorflow:global_step/sec: 502.874\n",
      "INFO:tensorflow:loss = 5335.1187, step = 5701 (0.199 sec)\n",
      "INFO:tensorflow:global_step/sec: 502.252\n",
      "INFO:tensorflow:loss = 6907.171, step = 5801 (0.199 sec)\n",
      "INFO:tensorflow:global_step/sec: 482.288\n",
      "INFO:tensorflow:loss = 10668.806, step = 5901 (0.208 sec)\n",
      "INFO:tensorflow:global_step/sec: 432.838\n",
      "INFO:tensorflow:loss = 10988.617, step = 6001 (0.230 sec)\n",
      "INFO:tensorflow:Saving checkpoints for 6071 into taxi_trained/model.ckpt.\n",
      "INFO:tensorflow:Loss for final step: 2940.641.\n",
      "INFO:tensorflow:Calling model_fn.\n",
      "INFO:tensorflow:Done calling model_fn.\n",
      "INFO:tensorflow:Starting evaluation at 2018-10-12-22:53:30\n",
      "INFO:tensorflow:Graph was finalized.\n",
      "INFO:tensorflow:Restoring parameters from taxi_trained/model.ckpt-6071\n",
      "INFO:tensorflow:Running local_init_op.\n",
      "INFO:tensorflow:Done running local_init_op.\n",
      "INFO:tensorflow:Finished evaluation at 2018-10-12-22:53:30\n",
      "INFO:tensorflow:Saving dict for global step 6071: average_loss = 109.13294, global_step = 6071, label/mean = 11.666427, loss = 12979.024, prediction/mean = 11.10996\n",
      "INFO:tensorflow:Saving 'checkpoint_path' summary for global step 6071: taxi_trained/model.ckpt-6071\n",
      "RMSE on validation dataset = 10.446671485900879\n"
     ]
    }
   ],
   "source": [
    "tf.logging.set_verbosity(tf.logging.INFO)\n",
    "shutil.rmtree(OUTDIR, ignore_errors = True) # start fresh each time\n",
    "model = tf.estimator.DNNRegressor(hidden_units = [32, 8, 2],\n",
    "      feature_columns = make_feature_cols(), model_dir = OUTDIR)\n",
    "model.train(input_fn = make_input_fn(df_train, num_epochs = 100));\n",
    "print_rmse(model, 'validation', df_valid)"
   ]
  },
  {
   "cell_type": "markdown",
   "metadata": {},
   "source": [
    "We are not beating our benchmark with either model ... what's up?  Well, we may be using TensorFlow for Machine Learning, but we are not yet using it well.  That's what the rest of this course is about!\n",
    "\n",
    "But, for the record, let's say we had to choose between the two models. We'd choose the one with the lower validation error. Finally, we'd measure the RMSE on the test data with this chosen model."
   ]
  },
  {
   "cell_type": "markdown",
   "metadata": {},
   "source": [
    "<h2> Benchmark dataset </h2>\n",
    "\n",
    "Let's do this on the benchmark dataset."
   ]
  },
  {
   "cell_type": "code",
   "execution_count": null,
   "metadata": {},
   "outputs": [],
   "source": [
    "import datalab.bigquery as bq\n",
    "import numpy as np\n",
    "import pandas as pd\n",
    "\n",
    "def create_query(phase, EVERY_N):\n",
    "  \"\"\"\n",
    "  phase: 1 = train 2 = valid\n",
    "  \"\"\"\n",
    "  base_query = \"\"\"\n",
    "SELECT\n",
    "  (tolls_amount + fare_amount) AS fare_amount,\n",
    "  CONCAT(STRING(pickup_datetime), STRING(pickup_longitude), STRING(pickup_latitude), STRING(dropoff_latitude), STRING(dropoff_longitude)) AS key,\n",
    "  DAYOFWEEK(pickup_datetime)*1.0 AS dayofweek,\n",
    "  HOUR(pickup_datetime)*1.0 AS hourofday,\n",
    "  pickup_longitude AS pickuplon,\n",
    "  pickup_latitude AS pickuplat,\n",
    "  dropoff_longitude AS dropofflon,\n",
    "  dropoff_latitude AS dropofflat,\n",
    "  passenger_count*1.0 AS passengers,\n",
    "FROM\n",
    "  [nyc-tlc:yellow.trips]\n",
    "WHERE\n",
    "  trip_distance > 0\n",
    "  AND fare_amount >= 2.5\n",
    "  AND pickup_longitude > -78\n",
    "  AND pickup_longitude < -70\n",
    "  AND dropoff_longitude > -78\n",
    "  AND dropoff_longitude < -70\n",
    "  AND pickup_latitude > 37\n",
    "  AND pickup_latitude < 45\n",
    "  AND dropoff_latitude > 37\n",
    "  AND dropoff_latitude < 45\n",
    "  AND passenger_count > 0\n",
    "  \"\"\"\n",
    "\n",
    "  if EVERY_N == None:\n",
    "    if phase < 2:\n",
    "      # Training\n",
    "      query = \"{0} AND ABS(HASH(pickup_datetime)) % 4 < 2\".format(base_query)\n",
    "    else:\n",
    "      # Validation\n",
    "      query = \"{0} AND ABS(HASH(pickup_datetime)) % 4 == {1}\".format(base_query, phase)\n",
    "  else:\n",
    "    query = \"{0} AND ABS(HASH(pickup_datetime)) % {1} == {2}\".format(base_query, EVERY_N, phase)\n",
    "    \n",
    "  return query\n",
    "\n",
    "query = create_query(2, 100000)\n",
    "df = bq.Query(query).to_dataframe()"
   ]
  },
  {
   "cell_type": "code",
   "execution_count": null,
   "metadata": {},
   "outputs": [],
   "source": [
    "print_rmse(model, 'benchmark', df)"
   ]
  },
  {
   "cell_type": "markdown",
   "metadata": {},
   "source": [
    "RMSE on benchmark dataset is <b>9.41</b> (your results will vary because of random seeds).\n",
    "\n",
    "This is not only way more than our original benchmark of 6.00, but it doesn't even beat our distance-based rule's RMSE of 8.02.\n",
    "\n",
    "Fear not -- you have learned how to write a TensorFlow model, but not to do all the things that you will have to do to your ML model performant. We will do this in the next chapters. In this chapter though, we will get our TensorFlow model ready for these improvements.\n",
    "\n",
    "In a software sense, the rest of the labs in this chapter will be about refactoring the code so that we can improve it."
   ]
  },
  {
   "cell_type": "markdown",
   "metadata": {},
   "source": [
    "## Challenge Exercise\n",
    "\n",
    "Create a neural network that is capable of finding the volume of a cylinder given the radius of its base (r) and its height (h). Assume that the radius and height of the cylinder are both in the range 0.5 to 2.0. Simulate the necessary training dataset.\n",
    "<p>\n",
    "Hint (highlight to see):\n",
    "<p style='color:white'>\n",
    "The input features will be r and h and the label will be $\\pi r^2 h$\n",
    "Create random values for r and h and compute V.\n",
    "Your dataset will consist of r, h and V.\n",
    "Then, use a DNN regressor.\n",
    "Make sure to generate enough data.\n",
    "</p>"
   ]
  },
  {
   "cell_type": "markdown",
   "metadata": {},
   "source": [
    "Copyright 2017 Google Inc. Licensed under the Apache License, Version 2.0 (the \"License\"); you may not use this file except in compliance with the License. You may obtain a copy of the License at http://www.apache.org/licenses/LICENSE-2.0 Unless required by applicable law or agreed to in writing, software distributed under the License is distributed on an \"AS IS\" BASIS, WITHOUT WARRANTIES OR CONDITIONS OF ANY KIND, either express or implied. See the License for the specific language governing permissions and limitations under the License"
   ]
  }
 ],
 "metadata": {
  "kernelspec": {
   "display_name": "Python 3",
   "language": "python",
   "name": "python3"
  },
  "language_info": {
   "codemirror_mode": {
    "name": "ipython",
    "version": 3
   },
   "file_extension": ".py",
   "mimetype": "text/x-python",
   "name": "python",
   "nbconvert_exporter": "python",
   "pygments_lexer": "ipython3",
   "version": "3.6.5"
  }
 },
 "nbformat": 4,
 "nbformat_minor": 1
}
